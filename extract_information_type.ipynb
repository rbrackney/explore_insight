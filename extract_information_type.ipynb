{
 "cells": [
  {
   "cell_type": "markdown",
   "metadata": {},
   "source": [
    "<h3> Extract Insight Profile features </h3>\n",
    "Insight profiles were copied directly from a .js script on the insight data science page. It contains the name of each fellow, their university, their demo project name, the company that hired them, and their job title. \n",
    "This notebook uses regular expressions to extract those features into a useable format.  \n"
   ]
  },
  {
   "cell_type": "code",
   "execution_count": 1,
   "metadata": {
    "collapsed": false
   },
   "outputs": [],
   "source": [
    "import re\n",
    "import pandas as pd\n",
    "import seaborn as svs\n",
    "\n",
    "%matplotlib inline\n"
   ]
  },
  {
   "cell_type": "code",
   "execution_count": 59,
   "metadata": {
    "collapsed": true
   },
   "outputs": [],
   "source": [
    "def get_features(ind):\n",
    "    '''\n",
    "    ind: the string block containing containing the information for a single individual, \n",
    "    taken from the 'insight_profiles' file. See next cell for info on that.\n",
    "    \n",
    "    '''\n",
    "    j_t = re.findall('font-weight:600;\">(.*?)</div>', ind, re.DOTALL)\n",
    "    if len(j_t) == 3:\n",
    "        j_t = j_t[1].split(',')\n",
    "    elif len(j_t) == 2:\n",
    "        j_t = j_t[0].split(',')\n",
    "    else:\n",
    "        j_t = j_t[0].split(',')\n",
    "    \n",
    "    if len(j_t) == 2:\n",
    "        job_title = j_t[0].strip()\n",
    "        company = j_t[1]\n",
    "    else:\n",
    "        job_title = j_t[0].strip()\n",
    "        company =  '?'\n",
    "        \n",
    "    ''' clean up company'''\n",
    "    \n",
    "    _c = re.sub('<br>', '', company)\n",
    "    _c = re.sub('</br>', '', _c)\n",
    "    _c = re.sub('[&#39;]', '', _c)\n",
    "    company = _c.strip()\n",
    "    \n",
    "    project_title = re.findall('20px;\">(.*?)</div>', ind, re.DOTALL)[0].strip()\n",
    "    \n",
    "    _back = re.search('Background(.*)', ind).group(1)\n",
    "    university = _back.split('<br>')[1].strip()\n",
    "    #university =re.findall('<br>(.*?)<br>', ind, re.DOTALL)[0].strip()\n",
    "    background =re.findall('6px;\">(.*?)<br>', ind, re.DOTALL)[0].strip()\n",
    "    out_dict = {'job_title': job_title,\n",
    "                'company':company, \n",
    "                'project_title':project_title,\n",
    "               'university':university,\n",
    "               'background':background}\n",
    "    \n",
    "    return out_dict\n"
   ]
  },
  {
   "cell_type": "markdown",
   "metadata": {},
   "source": [
    "<h4>Extract all basic info from the flat file"
   ]
  },
  {
   "cell_type": "code",
   "execution_count": 3,
   "metadata": {
    "collapsed": true
   },
   "outputs": [],
   "source": [
    "with open('insight_profiles') as f:\n",
    "    ftxt = f.read()"
   ]
  },
  {
   "cell_type": "code",
   "execution_count": 61,
   "metadata": {
    "collapsed": true
   },
   "outputs": [],
   "source": [
    "'''fellows_info is a list where each item is dictionary of features for that fellow'''\n",
    "individuals =  re.findall ( '[*][*]/(.*?)/[*][*]', ftxt, re.DOTALL)\n",
    "fellows_info = list()\n",
    "for ind in individuals:\n",
    "    fellows_info.append(get_features(ind))"
   ]
  },
  {
   "cell_type": "markdown",
   "metadata": {},
   "source": [
    "<h4>Create a count of the number of fellows that were hired by each company\n"
   ]
  },
  {
   "cell_type": "code",
   "execution_count": 5,
   "metadata": {
    "collapsed": false
   },
   "outputs": [],
   "source": [
    "'''count the number of fellows that went to each company'''\n",
    "company_set = set()\n",
    "company_dict = {}\n",
    "for fellow in fellows_info:\n",
    "    com = fellow['company'] \n",
    "    if com in company_set:\n",
    "        \n",
    "        company_dict[com] += 1\n",
    "    else:\n",
    "        company_set.add(com)\n",
    "        company_dict[com] = 1\n",
    "        \n"
   ]
  },
  {
   "cell_type": "code",
   "execution_count": 6,
   "metadata": {
    "collapsed": false
   },
   "outputs": [],
   "source": [
    "company_series = pd.Series(company_dict).to_frame()\n",
    "company_series.to_excel('companies.xlsx', sheet_name='s')\n"
   ]
  },
  {
   "cell_type": "code",
   "execution_count": 7,
   "metadata": {
    "collapsed": false
   },
   "outputs": [],
   "source": [
    "plot_series = company_series.sort(columns = [0], ascending = False)\n",
    "plot_series.loc['Insight Data Science'] = 10\n",
    "plot_series = plot_series.drop(['Insight','?'])\n",
    "plot_series = plot_series.sort(columns = [0], ascending = False)\n"
   ]
  },
  {
   "cell_type": "code",
   "execution_count": 8,
   "metadata": {
    "collapsed": false
   },
   "outputs": [
    {
     "data": {
      "image/png": "[encoded data removed]",
      "text/plain": [
       "<matplotlib.figure.Figure at 0x7f2205676290>"
      ]
     },
     "metadata": {},
     "output_type": "display_data"
    }
   ],
   "source": [
    "cur_plot = plot_series.plot(kind = 'bar')\n",
    "cur_plot.set_xlim([-0.5, 9.5])\n",
    "cur_plot.legend_.remove()\n",
    "cur_plot.set_title('companies that love insight the most')\n",
    "cur_plot.set_ylabel('# of lucky fellows with jobs at company')\n",
    "fig = cur_plot.get_figure()\n",
    "fig.patch.set_facecolor('white') #set the facecolor so it's not transparent"
   ]
  },
  {
   "cell_type": "code",
   "execution_count": null,
   "metadata": {
    "collapsed": true
   },
   "outputs": [],
   "source": []
  },
  {
   "cell_type": "markdown",
   "metadata": {},
   "source": [
    "<h4> Plot the University that each fellow came from before Insight "
   ]
  },
  {
   "cell_type": "code",
   "execution_count": 111,
   "metadata": {
    "collapsed": false
   },
   "outputs": [],
   "source": [
    "'''assuming that the fellows_info list already exists'''\n",
    "univ_set = set()\n",
    "univ_dict = {}\n",
    "\n",
    "replace_dict=  {'Stanford':'Stanford University',\n",
    "                'Yale':'Yale University',\n",
    "                'Lawrence Berkeley': 'Lawrence Berkeley National Laboratory',\n",
    "                'University of Waterloo':'University of Waterloo',\n",
    "                'University of Texas':'University of Texas, Austin',\n",
    "                'Caltech': 'California Institute of Technology',\n",
    "                'UC Berkeley':'University of California, Berkeley',\n",
    "                'U.C. Berkeley':'University of California, Berkeley',\n",
    "                'Boston University':'Boston University',\n",
    "                'MIT': 'Massachusetts Institute of Technology',\n",
    "                'University of British Columbia':'University of British Columbia'\n",
    "               } \n",
    "\n",
    "for fellow in fellows_info:\n",
    "    u = fellow['university'] \n",
    "    _u = re.sub('[&#47]', '', u)\n",
    "    u = _u\n",
    "    \n",
    "    for k in replace_dict.keys():\n",
    "        if k.lower() in u.lower():\n",
    "            u = replace_dict[k]\n",
    "    if u in univ_set:        \n",
    "        univ_dict[u]['count'] += 1\n",
    "    else:\n",
    "        univ_set.add(u)\n",
    "        univ_dict[u] = {'count':1}\n"
   ]
  },
  {
   "cell_type": "markdown",
   "metadata": {},
   "source": [
    "<h4> Now map the universities"
   ]
  },
  {
   "cell_type": "code",
   "execution_count": null,
   "metadata": {
    "collapsed": true
   },
   "outputs": [],
   "source": []
  },
  {
   "cell_type": "code",
   "execution_count": 99,
   "metadata": {
    "collapsed": true
   },
   "outputs": [],
   "source": [
    "with open('google.apik', 'r') as f:\n",
    "    apikey = f.read()"
   ]
  },
  {
   "cell_type": "code",
   "execution_count": 109,
   "metadata": {
    "collapsed": false
   },
   "outputs": [],
   "source": [
    "def mapinfo(location, apikey):\n",
    "    instr = 'https://maps.googleapis.com/maps/api/place/textsearch/json?query=%s&key=%s' % (location,apikey)\n",
    "    loc_info = requests.get(instr).json()\n",
    "    return loc_info\n"
   ]
  },
  {
   "cell_type": "code",
   "execution_count": 117,
   "metadata": {
    "collapsed": false
   },
   "outputs": [],
   "source": [
    "call_api = False\n",
    "if call_api:\n",
    "    for k in univ_dict.keys():\n",
    "        try:\n",
    "            univ_dict[k]['map_info'] = mapinfo(k,apikey)\n",
    "        except:\n",
    "            print '%s exception' % k\n",
    "else:\n",
    "    print 'call_api is off'"
   ]
  },
  {
   "cell_type": "code",
   "execution_count": 119,
   "metadata": {
    "collapsed": false
   },
   "outputs": [
    {
     "ename": "NameError",
     "evalue": "name 'pickle' is not defined",
     "output_type": "error",
     "traceback": [
      "\u001b[1;31m---------------------------------------------------------------------------\u001b[0m",
      "\u001b[1;31mNameError\u001b[0m                                 Traceback (most recent call last)",
      "\u001b[1;32m<ipython-input-119-d079443cf7e6>\u001b[0m in \u001b[0;36m<module>\u001b[1;34m()\u001b[0m\n\u001b[1;32m----> 1\u001b[1;33m \u001b[0mpickle\u001b[0m\u001b[1;33m.\u001b[0m\u001b[0mdump\u001b[0m\u001b[1;33m(\u001b[0m \u001b[0muniv_dict\u001b[0m\u001b[1;33m,\u001b[0m \u001b[0mopen\u001b[0m\u001b[1;33m(\u001b[0m \u001b[1;34m\"university.pkl\"\u001b[0m\u001b[1;33m,\u001b[0m \u001b[1;34m\"wb\"\u001b[0m \u001b[1;33m)\u001b[0m \u001b[1;33m)\u001b[0m\u001b[1;33m\u001b[0m\u001b[0m\n\u001b[0m",
      "\u001b[1;31mNameError\u001b[0m: name 'pickle' is not defined"
     ]
    }
   ],
   "source": [
    "pickle.dump( univ_dict, open( \"university.pkl\", \"wb\" ) )"
   ]
  },
  {
   "cell_type": "code",
   "execution_count": null,
   "metadata": {
    "collapsed": true
   },
   "outputs": [],
   "source": [
    "import folium\n",
    "from IPython.display import HTML\n",
    "map_osm = folium.Map(location=[45.5236, -122.6750])\n",
    "map_osm.create_map(path='osm.html')\n",
    "\n",
    "def inline_map(m, width=650, height=500):\n",
    "    \"\"\"Takes a folium instance and embed HTML.\"\"\"\n",
    "    m._build_map()\n",
    "    srcdoc = m.HTML.replace('\"', '&quot;')\n",
    "    embed = HTML('<iframe srcdoc=\"{}\" '\n",
    "                 'style=\"width: {}px; height: {}px; '\n",
    "                 'border: none\"></iframe>'.format(srcdoc, width, height))\n",
    "    return embed\n",
    "inline_map(map_osm)"
   ]
  }
 ],
 "metadata": {
  "kernelspec": {
   "display_name": "Python 2",
   "language": "python",
   "name": "python2"
  },
  "language_info": {
   "codemirror_mode": {
    "name": "ipython",
    "version": 2
   },
   "file_extension": ".py",
   "mimetype": "text/x-python",
   "name": "python",
   "nbconvert_exporter": "python",
   "pygments_lexer": "ipython2",
   "version": "2.7.9"
  }
 },
 "nbformat": 4,
 "nbformat_minor": 0
}
