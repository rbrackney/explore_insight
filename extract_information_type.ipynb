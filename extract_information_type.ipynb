{
 "cells": [
  {
   "cell_type": "markdown",
   "metadata": {},
   "source": [
    "<h3> Extract Insight Profile features </h3>\n",
    "Insight profiles were copied directly from a .js script on the insight data science page. It contains the name of each fellow, their university, their demo project name, and the company that hired them. \n",
    "This notebook uses regular expressions to extract those features into a useable format.  \n"
   ]
  },
  {
   "cell_type": "code",
   "execution_count": 1,
   "metadata": {
    "collapsed": false
   },
   "outputs": [],
   "source": [
    "import re\n",
    "import pandas as pd\n",
    "import seaborn as svs\n",
    "%matplotlib inline\n"
   ]
  },
  {
   "cell_type": "code",
   "execution_count": 2,
   "metadata": {
    "collapsed": false
   },
   "outputs": [],
   "source": [
    "with open('insight_profiles') as f:\n",
    "    ftxt = f.read()"
   ]
  },
  {
   "cell_type": "code",
   "execution_count": 3,
   "metadata": {
    "collapsed": true
   },
   "outputs": [],
   "source": [
    "def get_features(ind):\n",
    "    '''\n",
    "    ind: the string block containing containing the information for a single individual\n",
    "    \n",
    "    '''\n",
    "    j_t = re.findall('font-weight:600;\">(.*?)</div>', ind, re.DOTALL)\n",
    "    if len(j_t) == 3:\n",
    "        j_t = j_t[1].split(',')\n",
    "    elif len(j_t) == 2:\n",
    "        j_t = j_t[0].split(',')\n",
    "    else:\n",
    "        j_t = j_t[0].split(',')\n",
    "    \n",
    "    if len(j_t) == 2:\n",
    "        job_title = j_t[0].strip()\n",
    "        company = j_t[1]\n",
    "    else:\n",
    "        job_title = j_t[0].strip()\n",
    "        company =  '?'\n",
    "        \n",
    "    project_title = re.findall('20px;\">(.*?)</div>', ind, re.DOTALL)[0].strip()\n",
    "    university =re.findall('<br>(.*?)<br>', ind, re.DOTALL)[0].strip()\n",
    "    background =re.findall('6px;\">(.*?)<br>', ind, re.DOTALL)[0].strip()\n",
    "    out_dict = {'job_title': job_title,\n",
    "                'company':company, \n",
    "                'project_title':project_title,\n",
    "               'university':university,\n",
    "               'background':background}\n",
    "    \n",
    "    return out_dict\n"
   ]
  },
  {
   "cell_type": "code",
   "execution_count": null,
   "metadata": {
    "collapsed": true
   },
   "outputs": [],
   "source": [
    "'''\n",
    "Create a count of the number of fellows that were hired by each company\\\n",
    "\n",
    "'''"
   ]
  },
  {
   "cell_type": "code",
   "execution_count": 4,
   "metadata": {
    "collapsed": false
   },
   "outputs": [],
   "source": [
    "\n",
    "\n",
    "individuals =  re.findall ( '[*][*]/(.*?)/[*][*]', ftxt, re.DOTALL) \n",
    "company_set = set()\n",
    "company_dict = {}\n",
    "for ind in individuals:\n",
    "    out_dict = get_features(ind)   \n",
    "    b = re.sub('<br>', '', out_dict['company'])\n",
    "    b = re.sub('</br>', '', b)\n",
    "    b = re.sub('[&#39;]', '', b)\n",
    "    out_dict['company'] = b.strip()\n",
    "    com = out_dict['company']\n",
    "    if com in company_set:\n",
    "        \n",
    "        company_dict[com] += 1\n",
    "    else:\n",
    "        company_set.add(com)\n",
    "        company_dict[com] = 1\n",
    "        \n"
   ]
  },
  {
   "cell_type": "code",
   "execution_count": 5,
   "metadata": {
    "collapsed": false
   },
   "outputs": [
    {
     "name": "stdout",
     "output_type": "stream",
     "text": [
      "set([' Payoff'])\n"
     ]
    }
   ],
   "source": [
    "company_set\n",
    "new_company_set = set()\n",
    "for i in company_set:\n",
    "\n",
    "    new_company_set.add(b)\n",
    "print new_company_set"
   ]
  },
  {
   "cell_type": "code",
   "execution_count": 6,
   "metadata": {
    "collapsed": false
   },
   "outputs": [],
   "source": [
    "company_series = pd.Series(company_dict).to_frame()\n",
    "company_series.to_excel('companies.xlsx', sheet_name='s')\n"
   ]
  },
  {
   "cell_type": "code",
   "execution_count": 7,
   "metadata": {
    "collapsed": false
   },
   "outputs": [],
   "source": [
    "plot_series = company_series.sort(columns = [0], ascending = False)\n",
    "plot_series.loc['Insight Data Science'] = 10\n",
    "plot_series = plot_series.drop(['Insight','?'])\n",
    "plot_series = plot_series.sort(columns = [0], ascending = False)\n"
   ]
  },
  {
   "cell_type": "code",
   "execution_count": 9,
   "metadata": {
    "collapsed": false
   },
   "outputs": [
    {
     "data": {
      "image/png": "[encoded data removed]",
      "text/plain": [
       "<matplotlib.figure.Figure at 0x7f6690f32990>"
      ]
     },
     "metadata": {},
     "output_type": "display_data"
    }
   ],
   "source": [
    "cur_plot = plot_series.plot(kind = 'bar')\n",
    "cur_plot.set_xlim([-0.5, 9.5])\n",
    "cur_plot.legend_.remove()\n",
    "cur_plot.set_title('which companies love insight the most')\n",
    "cur_plot.set_ylabel('# of lucky fellows with jobs at company')\n",
    "fig = cur_plot.get_figure()\n",
    "fig.patch.set_facecolor('white')"
   ]
  }
 ],
 "metadata": {
  "kernelspec": {
   "display_name": "Python 2",
   "language": "python",
   "name": "python2"
  },
  "language_info": {
   "codemirror_mode": {
    "name": "ipython",
    "version": 2
   },
   "file_extension": ".py",
   "mimetype": "text/x-python",
   "name": "python",
   "nbconvert_exporter": "python",
   "pygments_lexer": "ipython2",
   "version": "2.7.9"
  }
 },
 "nbformat": 4,
 "nbformat_minor": 0
}
